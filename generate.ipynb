{
 "cells": [
  {
   "cell_type": "code",
   "execution_count": 1,
   "metadata": {},
   "outputs": [],
   "source": [
    "!mkdir -p ./ckpt/kss"
   ]
  },
  {
   "cell_type": "code",
   "execution_count": 6,
   "metadata": {},
   "outputs": [
    {
     "name": "stdout",
     "output_type": "stream",
     "text": [
      "Traceback (most recent call last):\n",
      "  File \"/bin/pip\", line 11, in <module>\n",
      "    load_entry_point('pip==20.0.2', 'console_scripts', 'pip')()\n",
      "  File \"/usr/lib/python3/dist-packages/pip/_internal/cli/main.py\", line 73, in main\n",
      "    command = create_command(cmd_name, isolated=(\"--isolated\" in cmd_args))\n",
      "              ^^^^^^^^^^^^^^^^^^^^^^^^^^^^^^^^^^^^^^^^^^^^^^^^^^^^^^^^^^^^^\n",
      "  File \"/usr/lib/python3/dist-packages/pip/_internal/commands/__init__.py\", line 96, in create_command\n",
      "    module = importlib.import_module(module_path)\n",
      "             ^^^^^^^^^^^^^^^^^^^^^^^^^^^^^^^^^^^^\n",
      "  File \"/usr/lib/python3.11/importlib/__init__.py\", line 126, in import_module\n",
      "    return _bootstrap._gcd_import(name[level:], package, level)\n",
      "           ^^^^^^^^^^^^^^^^^^^^^^^^^^^^^^^^^^^^^^^^^^^^^^^^^^^^\n",
      "  File \"<frozen importlib._bootstrap>\", line 1204, in _gcd_import\n",
      "  File \"<frozen importlib._bootstrap>\", line 1176, in _find_and_load\n",
      "  File \"<frozen importlib._bootstrap>\", line 1147, in _find_and_load_unlocked\n",
      "  File \"<frozen importlib._bootstrap>\", line 690, in _load_unlocked\n",
      "  File \"<frozen importlib._bootstrap_external>\", line 940, in exec_module\n",
      "  File \"<frozen importlib._bootstrap>\", line 241, in _call_with_frames_removed\n",
      "  File \"/usr/lib/python3/dist-packages/pip/_internal/commands/install.py\", line 24, in <module>\n",
      "    from pip._internal.cli.req_command import RequirementCommand\n",
      "  File \"/usr/lib/python3/dist-packages/pip/_internal/cli/req_command.py\", line 15, in <module>\n",
      "    from pip._internal.index.package_finder import PackageFinder\n",
      "  File \"/usr/lib/python3/dist-packages/pip/_internal/index/package_finder.py\", line 21, in <module>\n",
      "    from pip._internal.index.collector import parse_links\n",
      "  File \"/usr/lib/python3/dist-packages/pip/_internal/index/collector.py\", line 12, in <module>\n",
      "    from pip._vendor import html5lib, requests\n",
      "ImportError: cannot import name 'html5lib' from 'pip._vendor' (/usr/lib/python3/dist-packages/pip/_vendor/__init__.py)\n"
     ]
    }
   ],
   "source": [
    "!pip install jamo"
   ]
  },
  {
   "cell_type": "code",
   "execution_count": 3,
   "metadata": {},
   "outputs": [
    {
     "name": "stderr",
     "output_type": "stream",
     "text": [
      "Downloading...\n",
      "From (original): https://drive.google.com/uc?id=1qkFuNLqPIm-A5mZZDPGK1mnp0_Lh00PN\n",
      "From (redirected): https://drive.google.com/uc?id=1qkFuNLqPIm-A5mZZDPGK1mnp0_Lh00PN&confirm=t&uuid=be9d9420-731a-4c6d-b55c-af86121cc6aa\n",
      "To: /mnt/d/wsl/Korean-FastSpeech2-Pytorch/ckpt/kss/checkpoint_350000.pth.tar\n",
      "100%|██████████| 346M/346M [00:16<00:00, 20.7MB/s] \n"
     ]
    },
    {
     "data": {
      "text/plain": [
       "'./ckpt/kss/checkpoint_350000.pth.tar'"
      ]
     },
     "execution_count": 3,
     "metadata": {},
     "output_type": "execute_result"
    }
   ],
   "source": [
    "import gdown\n",
    "\n",
    "url = 'https://drive.google.com/uc?id=1qkFuNLqPIm-A5mZZDPGK1mnp0_Lh00PN'\n",
    "gdown.download(url, \"./ckpt/kss/checkpoint_350000.pth.tar\" ,quiet=False)"
   ]
  },
  {
   "cell_type": "code",
   "execution_count": 4,
   "metadata": {},
   "outputs": [
    {
     "name": "stderr",
     "output_type": "stream",
     "text": [
      "Downloading...\n",
      "From (original): https://drive.google.com/uc?id=1GxaLlTrEhq0aXFvd_X1f4b-ev7-FH8RB\n",
      "From (redirected): https://drive.google.com/uc?id=1GxaLlTrEhq0aXFvd_X1f4b-ev7-FH8RB&confirm=t&uuid=339155a7-a111-4f96-8aaa-83d405766355\n",
      "To: /mnt/d/wsl/Korean-FastSpeech2-Pytorch/vocoder/pretrained_models/vocgan_kss_pretrained_model_epoch_4500.pt\n",
      "100%|██████████| 109M/109M [00:05<00:00, 21.5MB/s] \n"
     ]
    },
    {
     "data": {
      "text/plain": [
       "'./vocoder/pretrained_models/vocgan_kss_pretrained_model_epoch_4500.pt'"
      ]
     },
     "execution_count": 4,
     "metadata": {},
     "output_type": "execute_result"
    }
   ],
   "source": [
    "url = 'https://drive.google.com/uc?id=1GxaLlTrEhq0aXFvd_X1f4b-ev7-FH8RB'\n",
    "gdown.download(url,\"./vocoder/pretrained_models/\")"
   ]
  },
  {
   "cell_type": "code",
   "execution_count": 5,
   "metadata": {},
   "outputs": [
    {
     "name": "stdout",
     "output_type": "stream",
     "text": [
      "/mnt/d/wsl/Korean-FastSpeech2-Pytorch/text/__init__.py:74: SyntaxWarning: \"is not\" with a literal. Did you mean \"!=\"?\n",
      "  return s in _symbol_to_id and s is not '~' and s is not '_'\n",
      "/mnt/d/wsl/Korean-FastSpeech2-Pytorch/text/__init__.py:74: SyntaxWarning: \"is not\" with a literal. Did you mean \"!=\"?\n",
      "  return s in _symbol_to_id and s is not '~' and s is not '_'\n",
      "Traceback (most recent call last):\n",
      "  File \"/mnt/d/wsl/Korean-FastSpeech2-Pytorch/synthesize.py\", line 14, in <module>\n",
      "    from fastspeech2 import FastSpeech2\n",
      "  File \"/mnt/d/wsl/Korean-FastSpeech2-Pytorch/fastspeech2.py\", line 5, in <module>\n",
      "    from transformer.Models import Encoder, Decoder\n",
      "  File \"/mnt/d/wsl/Korean-FastSpeech2-Pytorch/transformer/__init__.py\", line 5, in <module>\n",
      "    import transformer.Models\n",
      "  File \"/mnt/d/wsl/Korean-FastSpeech2-Pytorch/transformer/Models.py\", line 7, in <module>\n",
      "    from text.symbols import symbols\n",
      "  File \"/mnt/d/wsl/Korean-FastSpeech2-Pytorch/text/__init__.py\", line 4, in <module>\n",
      "    from .symbols import kor_symbols as symbols\n",
      "  File \"/mnt/d/wsl/Korean-FastSpeech2-Pytorch/text/symbols.py\", line 11, in <module>\n",
      "    from .korean import KOR_SYMBOLS\n",
      "  File \"/mnt/d/wsl/Korean-FastSpeech2-Pytorch/text/korean.py\", line 5, in <module>\n",
      "    from jamo import hangul_to_jamo, h2j, j2h, hcj_to_jamo, is_hcj\n",
      "ModuleNotFoundError: No module named 'jamo'\n"
     ]
    }
   ],
   "source": [
    "!python3 synthesize.py --step 350000"
   ]
  },
  {
   "cell_type": "code",
   "execution_count": null,
   "metadata": {},
   "outputs": [],
   "source": []
  }
 ],
 "metadata": {
  "kernelspec": {
   "display_name": "Python 3",
   "language": "python",
   "name": "python3"
  },
  "language_info": {
   "codemirror_mode": {
    "name": "ipython",
    "version": 3
   },
   "file_extension": ".py",
   "mimetype": "text/x-python",
   "name": "python",
   "nbconvert_exporter": "python",
   "pygments_lexer": "ipython3",
   "version": "3.11.9"
  }
 },
 "nbformat": 4,
 "nbformat_minor": 2
}
